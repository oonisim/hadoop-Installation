{
 "cells": [
  {
   "cell_type": "markdown",
   "id": "a609ffd2",
   "metadata": {},
   "source": [
    "# Setup the environment to submit PySpark jobs on YARN\n",
    "\n",
    "The basis is to submit Spark jobs to a Spark cluster. \n",
    "\n",
    "* [How to submit a PyDeequ job from Jupyter Notebook to a Spark/YARN\n",
    "](https://stackoverflow.com/questions/68796543/how-to-use-a-pydeequ-job-from-jupyter-notebook-to-a-spark-yarn/68796544#68796544)\n",
    "* [Submitting pyspark script to a remote Spark server?\n",
    "](https://stackoverflow.com/questions/54641574/submitting-pyspark-script-to-a-remote-spark-server)"
   ]
  },
  {
   "cell_type": "code",
   "execution_count": null,
   "id": "e765d5f9",
   "metadata": {},
   "outputs": [],
   "source": [
    "import os\n",
    "import sys\n",
    "import gc"
   ]
  },
  {
   "cell_type": "code",
   "execution_count": null,
   "id": "ef2d4178",
   "metadata": {},
   "outputs": [],
   "source": [
    "dir = os.path.realpath(os.getcwd())"
   ]
  },
  {
   "cell_type": "markdown",
   "id": "9317443d",
   "metadata": {},
   "source": [
    "---\n",
    "# HDFS permission\n",
    "\n",
    "For a non-spark user to be able to submit a job, login to the HDFS node as the hadoop user to run:\n",
    "\n",
    "```\n",
    "hadoop fs -mkdir /user/${USERNAME}\n",
    "hadoop fs -chown ${USERNAME} /user/${USERNAME}\n",
    "hadoop fs -chmod g+w /user/${USERNAME}\n",
    "```\n",
    "\n",
    "Otherwise an error:\n",
    "```\n",
    "21/08/15 21:15:28 ERROR SparkContext: Error initializing SparkContext.\n",
    "org.apache.hadoop.security.AccessControlException: Permission denied: user=${USERNAME}, access=WRITE, inode=\"/user\":hadoop:hadoop:drwxrwxr-x\n",
    "```"
   ]
  },
  {
   "cell_type": "markdown",
   "id": "e345d990",
   "metadata": {},
   "source": [
    "---\n",
    "# Environment variables"
   ]
  },
  {
   "cell_type": "markdown",
   "id": "8c9d50fc",
   "metadata": {},
   "source": [
    "## HADOOP_CONF_DIR\n",
    "\n",
    "Copy the **HADOOP_CONF_DIR** from the Hadoop/YARN master node and set the ```HADOOP_CONF_DIR``` environment variable locally to point to the directory.\n",
    "\n",
    "* [Launching Spark on YARN\n",
    "](http://spark.apache.org/docs/latest/running-on-yarn.html#launching-spark-on-yarn)\n",
    "\n",
    "> Ensure that **HADOOP_CONF_DIR** or **YARN_CONF_DIR** points to the directory which contains the (client side) configuration files for the Hadoop cluster. These configs are used to write to HDFS and connect to the YARN ResourceManager. The configuration contained in this directory will be distributed to the YARN cluster so that all containers used by the application use the same configuration. "
   ]
  },
  {
   "cell_type": "code",
   "execution_count": null,
   "id": "a0ee72b5",
   "metadata": {},
   "outputs": [],
   "source": [
    "os.environ['HADOOP_CONF_DIR'] = \"/opt/hadoop/hadoop-3.2.2/etc/hadoop\""
   ]
  },
  {
   "cell_type": "markdown",
   "id": "e96ea383",
   "metadata": {},
   "source": [
    "## PYTHONPATH\n",
    "\n",
    "Refer to the **pyspark** modules to load from the ```$SPARK_HOME/python/lib``` in the Spark installation.\n",
    "\n",
    "* [PySpark Getting Started](https://spark.apache.org/docs/latest/api/python/getting_started/install.html)\n",
    "\n",
    "> Ensure the SPARK_HOME environment variable points to the directory where the tar file has been extracted. Update PYTHONPATH environment variable such that it can find the PySpark and Py4J under SPARK_HOME/python/lib. One example of doing this is shown below:\n",
    "\n",
    "```\n",
    "export PYTHONPATH=$(ZIPS=(\"$SPARK_HOME\"/python/lib/*.zip); IFS=:; echo \"${ZIPS[*]}\"):$PYTHONPATH\n",
    "```\n",
    "\n",
    "Alternatively install **pyspark** with pip or conda locally which installs the Spark runtime libararies (for standalone).\n",
    "\n",
    "* [Can PySpark work without Spark?](https://stackoverflow.com/questions/51728177/can-pyspark-work-without-spark)\n",
    "\n",
    "> As of v2.2, executing pip install pyspark will install Spark. If you're going to use Pyspark it's clearly the simplest way to get started. On my system Spark is installed inside my virtual environment (miniconda) at lib/python3.6/site-packages/pyspark/jars  \n",
    "> PySpark has a Spark installation installed. If installed through pip3, you can find it with pip3 show pyspark. Ex. for me it is at ~/.local/lib/python3.8/site-packages/pyspark. This is a standalone configuration so it can't be used for managing clusters like a full Spark installation."
   ]
  },
  {
   "cell_type": "code",
   "execution_count": null,
   "id": "2fbbd15b",
   "metadata": {},
   "outputs": [],
   "source": [
    "# os.environ['PYTHONPATH'] = \"/opt/spark/spark-3.1.2/python/lib/py4j-0.10.9-src.zip:/opt/spark/spark-3.1.2/python/lib/pyspark.zip\"\n",
    "sys.path.extend([\n",
    "    \"/opt/spark/spark-3.1.2/python/lib/py4j-0.10.9-src.zip\",\n",
    "    \"/opt/spark/spark-3.1.2/python/lib/pyspark.zip\"\n",
    "])"
   ]
  },
  {
   "cell_type": "markdown",
   "id": "3f6159b3",
   "metadata": {},
   "source": [
    "## PYSPARK_SUBMIT_ARGS\n",
    "\n",
    "Specify the [spark-submit](https://spark.apache.org/docs/3.1.2/submitting-applications.html#launching-applications-with-spark-submit) parameters.\n",
    "\n",
    "```\n",
    "./bin/spark-submit \\\n",
    "  --class <main-class> \\\n",
    "  --master <master-url> \\\n",
    "  --deploy-mode <deploy-mode> \\\n",
    "  --conf <key>=<value> \\\n",
    "  ... # other options\n",
    "  <application-jar> \\\n",
    "  [application-arguments]\n",
    "```\n",
    "\n",
    "The ```conf``` paramters are [Spark properties](https://spark.apache.org/docs/latest/configuration.html#available-properties) e.g. ```spark.executor.memory```\n",
    "\n",
    "Alternatively, use [SparkSession.builder](https://spark.apache.org/docs/latest/sql-getting-started.html#starting-point-sparksession).\n",
    "\n",
    "```\n",
    "spark = SparkSession.builder\\\n",
    "    .master('yarn') \\\n",
    "    .config('spark.submit.deployMode', 'client') \\\n",
    "    .config('spark.executor.memory', '2g') \\\n",
    "    .getOrCreate()\n",
    "```\n",
    "\n",
    "### Example\n",
    "\n",
    "```\n",
    "./bin/spark-submit \\\n",
    "  --class org.apache.spark.examples.SparkPi \\\n",
    "  --master yarn \\\n",
    "  --deploy-mode client \\\n",
    "  --supervise \\\n",
    "  --executor-memory 20G \\\n",
    "  --total-executor-cores 100 \\\n",
    "  /path/to/examples.jar \\\n",
    "  1000\n",
    "```\n",
    "\n",
    "### Environment variable\n",
    "\n",
    "```\n",
    "export PYSPARK_SUBMIT_ARGS='--master yarn --executor-memory 20G --total-executor-cores 100 --num-executors 5 --driver-memory 2g --executor-memory 2g pyspark-submit'\n",
    "```"
   ]
  },
  {
   "cell_type": "markdown",
   "id": "fa4bab1f",
   "metadata": {},
   "source": [
    "---\n",
    "# PyDeequ\n",
    "\n",
    "* [Deequ - Unit Tests for Data](https://github.com/awslabs/deequ)\n",
    "\n",
    ">Deequ is a library built on top of Apache Spark for defining \"unit tests for data\", which measure data quality in large datasets. We are happy to receive feedback and contributions.  \n",
    ">Python users may also be interested in PyDeequ, a Python interface for Deequ. You can find PyDeequ on GitHub, readthedocs, and PyPI.\n",
    "\n",
    "* [Maven repository com.amazon.deequ](https://mvnrepository.com/artifact/com.amazon.deequ/deequ)\n",
    "\n",
    "* [Testing data quality at scale with PyDeequ](https://aws.amazon.com/blogs/big-data/testing-data-quality-at-scale-with-pydeequ/)"
   ]
  },
  {
   "cell_type": "markdown",
   "id": "2309bfdf",
   "metadata": {},
   "source": [
    "## Deequ jar to classpath\n",
    "To use the PyDeequ, need the deequ jar file. Download the one for the Spark/Deequ version from the [Maven repository com.amazon.deequ](https://mvnrepository.com/artifact/com.amazon.deequ/deequ).\n",
    "\n",
    "Specify them to the Spark jar properties as specified in:\n",
    "\n",
    "* [Deequ Analyzers Basic Tutorial](https://github.com/awslabs/python-deequ/blob/master/tutorials/analyzers.ipynb)\n",
    "* [TypeError: 'JavaPackage' object is not callable when running pydeequ](https://github.com/awslabs/python-deequ/issues/1)\n",
    "\n",
    "Note that need all of them. Missing any will cause errors.\n",
    "```\n",
    "spark = SparkSession.builder\\\n",
    "    .master('yarn') \\\n",
    "    .config('spark.submit.deployMode', 'client') \\\n",
    "    .config(\"spark.driver.extraClassPath\", classpath) \\         <-----\n",
    "    .config(\"spark.jars.packages\", pydeequ.deequ_maven_coord) \\   <-----\n",
    "    .config(\"spark.jars.excludes\", pydeequ.f2j_maven_coord) \\     <-----\n",
    "    .getOrCreate()\n",
    "```"
   ]
  },
  {
   "cell_type": "code",
   "execution_count": null,
   "id": "b7e9840c",
   "metadata": {},
   "outputs": [],
   "source": [
    "deequ_jar = \"https://repo1.maven.org/maven2/com/amazon/deequ/deequ/2.0.0-spark-3.1/deequ-2.0.0-spark-3.1.jar\"\n",
    "classpath = f\"{dir}/jar/deequ-2.0.0-spark-3.1.jar\"\n",
    "\n",
    "!wget -q -O $classpath $deequ_jar\n",
    "#!ls $classpath"
   ]
  },
  {
   "cell_type": "code",
   "execution_count": null,
   "id": "e425cbf9",
   "metadata": {},
   "outputs": [],
   "source": [
    "!pip install -q pydeequ\n",
    "os.environ['SPARK_VERSION'] = '3.1.2'\n",
    "import pydeequ"
   ]
  },
  {
   "cell_type": "markdown",
   "id": "835baa25",
   "metadata": {},
   "source": [
    "---\n",
    "# Spark Session"
   ]
  },
  {
   "cell_type": "code",
   "execution_count": null,
   "id": "15d4da6f",
   "metadata": {},
   "outputs": [],
   "source": [
    "from pyspark.sql import SparkSession"
   ]
  },
  {
   "cell_type": "code",
   "execution_count": null,
   "id": "4c8aec45",
   "metadata": {},
   "outputs": [],
   "source": [
    "spark = SparkSession.builder\\\n",
    "    .master('yarn') \\\n",
    "    .config('spark.submit.deployMode', 'client') \\\n",
    "    .config(\"spark.driver.extraClassPath\", classpath) \\\n",
    "    .config(\"spark.jars.packages\", pydeequ.deequ_maven_coord) \\\n",
    "    .config(\"spark.jars.excludes\", pydeequ.f2j_maven_coord) \\\n",
    "    .config('spark.debug.maxToStringFields', 100) \\\n",
    "    .config('spark.executor.memory', '2g') \\\n",
    "    .getOrCreate()"
   ]
  },
  {
   "cell_type": "markdown",
   "id": "cc9fb5ea",
   "metadata": {},
   "source": [
    "---\n",
    "# AWS Product Review data"
   ]
  },
  {
   "cell_type": "code",
   "execution_count": null,
   "id": "9e1b8c35",
   "metadata": {},
   "outputs": [],
   "source": [
    "df = spark.read.csv(\n",
    "    path=f\"file:///{dir}/data/amazon_product_reviews.csv.gz\",\n",
    "    header=True,\n",
    ")\n",
    "df.printSchema()"
   ]
  },
  {
   "cell_type": "code",
   "execution_count": null,
   "id": "1a32d0fc",
   "metadata": {},
   "outputs": [],
   "source": [
    "from pydeequ.analyzers import *\n",
    "analysisResult = AnalysisRunner(spark) \\\n",
    "    .onData(df) \\\n",
    "    .addAnalyzer(Size()) \\\n",
    "    .addAnalyzer(Completeness(\"review_id\")) \\\n",
    "    .addAnalyzer(ApproxCountDistinct(\"review_id\")) \\\n",
    "    .addAnalyzer(Mean(\"star_rating\")) \\\n",
    "    .addAnalyzer(Compliance(\"top star_rating\", \"star_rating >= 4.0\")) \\\n",
    "    .addAnalyzer(Correlation(\"total_votes\", \"star_rating\")) \\\n",
    "    .addAnalyzer(Correlation(\"total_votes\", \"helpful_votes\")) \\\n",
    "    .run()\n",
    "                    \n",
    "analysisResult_df = AnalyzerContext.successMetricsAsDataFrame(spark, analysisResult)\n",
    "analysisResult_df.show()"
   ]
  },
  {
   "cell_type": "markdown",
   "id": "0bde7c07",
   "metadata": {},
   "source": [
    "# Cleanup"
   ]
  },
  {
   "cell_type": "code",
   "execution_count": null,
   "id": "71a6106c",
   "metadata": {},
   "outputs": [],
   "source": [
    "del spark\n",
    "gc.collect()"
   ]
  }
 ],
 "metadata": {
  "kernelspec": {
   "display_name": "Python 3 (ipykernel)",
   "language": "python",
   "name": "python3"
  },
  "language_info": {
   "codemirror_mode": {
    "name": "ipython",
    "version": 3
   },
   "file_extension": ".py",
   "mimetype": "text/x-python",
   "name": "python",
   "nbconvert_exporter": "python",
   "pygments_lexer": "ipython3",
   "version": "3.8.10"
  }
 },
 "nbformat": 4,
 "nbformat_minor": 5
}
